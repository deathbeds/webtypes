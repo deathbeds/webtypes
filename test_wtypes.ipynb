{
 "cells": [
  {
   "cell_type": "code",
   "execution_count": 1,
   "metadata": {},
   "outputs": [
    {
     "data": {
      "text/markdown": [
       "    from wtypes import *\n",
       "    import pytest, anyconfig\n",
       "    invalid = pytest.raises(ValidationError)"
      ],
      "text/plain": [
       "<IPython.core.display.Markdown object>"
      ]
     },
     "metadata": {},
     "output_type": "display_data"
    }
   ],
   "source": [
    "    from wtypes import *\n",
    "    import pytest, anyconfig\n",
    "    invalid = pytest.raises(ValidationError)"
   ]
  },
  {
   "cell_type": "code",
   "execution_count": 2,
   "metadata": {},
   "outputs": [
    {
     "data": {
      "text/markdown": [
       "    def test_dict():\n",
       "        class Thing(Dict):\n",
       "            a: Integer\n",
       "\n",
       "        assert Thing._schema.toDict() == {'type': 'object', 'properties': {'a': {'type': 'integer'}}, 'required': ['a']}\n",
       "        assert Thing(a=1)\n",
       "        with invalid:\n",
       "            Thing(a='abc')"
      ],
      "text/plain": [
       "<IPython.core.display.Markdown object>"
      ]
     },
     "metadata": {},
     "output_type": "display_data"
    }
   ],
   "source": [
    "    def test_dict():\n",
    "        class Thing(Dict):\n",
    "            a: Integer\n",
    "\n",
    "        assert Thing._schema.toDict() == {'type': 'object', 'properties': {'a': {'type': 'integer'}}, 'required': ['a']}\n",
    "        assert Thing(a=1)\n",
    "        with invalid:\n",
    "            Thing(a='abc')\n"
   ]
  },
  {
   "cell_type": "code",
   "execution_count": 3,
   "metadata": {},
   "outputs": [
    {
     "data": {
      "text/markdown": [
       "    def test_bunch():\n",
       "        class Thing(Bunch):\n",
       "            a: Integer\n",
       "\n",
       "        assert Thing._schema.toDict() == {'type': 'object', 'properties': {'a': {'type': 'integer'}}, 'required': ['a']}\n",
       "        t = Thing(a=1)\n",
       "        assert t.a == 1\n",
       "        with invalid:\n",
       "            Thing(a='abc')"
      ],
      "text/plain": [
       "<IPython.core.display.Markdown object>"
      ]
     },
     "metadata": {},
     "output_type": "display_data"
    }
   ],
   "source": [
    "    def test_bunch():\n",
    "        class Thing(Bunch):\n",
    "            a: Integer\n",
    "\n",
    "        assert Thing._schema.toDict() == {'type': 'object', 'properties': {'a': {'type': 'integer'}}, 'required': ['a']}\n",
    "        t = Thing(a=1)\n",
    "        assert t.a == 1\n",
    "        with invalid:\n",
    "            Thing(a='abc')\n"
   ]
  },
  {
   "cell_type": "code",
   "execution_count": 4,
   "metadata": {},
   "outputs": [
    {
     "data": {
      "text/markdown": [
       "    def test_dict_mods():\n",
       "        d = Dict[{'a': Integer, 'b': String}]({'a': 1})\n",
       "\n",
       "        with invalid: d[\"a\"] = 'abc'\n",
       "        d['a'] = 8\n",
       "        d['b'] = 'abc'\n",
       "        with invalid: d['b'] = 10\n",
       "        d['b'] = 'wxyz'\n",
       "\n",
       "        assert d == {'a': 8, 'b': 'wxyz'}"
      ],
      "text/plain": [
       "<IPython.core.display.Markdown object>"
      ]
     },
     "metadata": {},
     "output_type": "display_data"
    }
   ],
   "source": [
    "    def test_dict_mods():\n",
    "        d = Dict[{'a': Integer, 'b': String}]({'a': 1})\n",
    "\n",
    "        with invalid: d[\"a\"] = 'abc'\n",
    "        d['a'] = 8\n",
    "        d['b'] = 'abc'\n",
    "        with invalid: d['b'] = 10\n",
    "        d['b'] = 'wxyz'\n",
    "\n",
    "        assert d == {'a': 8, 'b': 'wxyz'}\n"
   ]
  },
  {
   "cell_type": "code",
   "execution_count": 5,
   "metadata": {},
   "outputs": [
    {
     "data": {
      "text/markdown": [
       "    def test_list_mods():\n",
       "        l = List[Integer, Bool]()\n",
       "        with invalid: l.append(1.2)\n",
       "        l.append(1)\n",
       "        l.extend([1,True])\n",
       "        with invalid: l.extend([1, 'abc'])\n",
       "        l.extend([False, 2, 4])\n",
       "        assert l == [1, 1, True, False, 2, 4]\n",
       "        with invalid: l.insert(1, 'abc')\n",
       "        l.insert(1, 8)\n",
       "        assert l == [1, 8, 1, True, False, 2, 4]\n",
       "\n",
       "        ml = List[Integer] + MinItems[1]\n",
       "\n",
       "        with invalid: ml()\n",
       "        with invalid: ml(['abc'])\n",
       "        assert ml([1])"
      ],
      "text/plain": [
       "<IPython.core.display.Markdown object>"
      ]
     },
     "metadata": {},
     "output_type": "display_data"
    }
   ],
   "source": [
    "    def test_list_mods():\n",
    "        l = List[Integer, Bool]()\n",
    "        with invalid: l.append(1.2)\n",
    "        l.append(1)\n",
    "        l.extend([1,True])\n",
    "        with invalid: l.extend([1, 'abc'])\n",
    "        l.extend([False, 2, 4])\n",
    "        assert l == [1, 1, True, False, 2, 4]\n",
    "        with invalid: l.insert(1, 'abc')\n",
    "        l.insert(1, 8)\n",
    "        assert l == [1, 8, 1, True, False, 2, 4]\n",
    "\n",
    "        ml = List[Integer] + MinItems[1]\n",
    "\n",
    "        with invalid: ml()\n",
    "        with invalid: ml(['abc'])\n",
    "        assert ml([1])"
   ]
  },
  {
   "cell_type": "code",
   "execution_count": 6,
   "metadata": {},
   "outputs": [
    {
     "data": {
      "text/markdown": [
       "    def test_update_item():\n",
       "        for cls in [Dict, Bunch]:\n",
       "            d = cls[{'a': int}]()\n",
       "            assert 'a' not in d\n",
       "            d['a'] = 10\n",
       "            assert d['a'] == 10"
      ],
      "text/plain": [
       "<IPython.core.display.Markdown object>"
      ]
     },
     "metadata": {},
     "output_type": "display_data"
    }
   ],
   "source": [
    "    def test_update_item():\n",
    "        for cls in [Dict, Bunch]:\n",
    "            d = cls[{'a': int}]()\n",
    "            assert 'a' not in d\n",
    "            d['a'] = 10\n",
    "            assert d['a'] == 10"
   ]
  },
  {
   "cell_type": "code",
   "execution_count": 7,
   "metadata": {},
   "outputs": [
    {
     "data": {
      "text/markdown": [
       "    def test_load_config():\n",
       "        class BadProject(Bunch):\n",
       "            tool: Dict\n",
       "            __annotations__ = {'build-system': Integer}\n",
       "\n",
       "        with invalid:\n",
       "            BadProject().load('pyproject.toml')\n",
       "        \n",
       "        class PyProject(Bunch):\n",
       "            tool: Dict\n",
       "            __annotations__ = {'build-system': Dict}\n",
       "        PyProject.from_config_file('pyproject.toml')"
      ],
      "text/plain": [
       "<IPython.core.display.Markdown object>"
      ]
     },
     "metadata": {},
     "output_type": "display_data"
    }
   ],
   "source": [
    "    def test_load_config():\n",
    "        class BadProject(Bunch):\n",
    "            tool: Dict\n",
    "            __annotations__ = {'build-system': Integer}\n",
    "\n",
    "        with invalid:\n",
    "            BadProject().load('pyproject.toml')\n",
    "        \n",
    "        class PyProject(Bunch):\n",
    "            tool: Dict\n",
    "            __annotations__ = {'build-system': Dict}\n",
    "        PyProject.from_config_file('pyproject.toml')"
   ]
  },
  {
   "cell_type": "code",
   "execution_count": 8,
   "metadata": {},
   "outputs": [
    {
     "data": {
      "text/markdown": [
       "    def test_tuple():\n",
       "        assert Tuple((1,2))\n",
       "        assert Tuple([1,2])\n",
       "        with invalid: Tuple[[Integer, String]]({})"
      ],
      "text/plain": [
       "<IPython.core.display.Markdown object>"
      ]
     },
     "metadata": {},
     "output_type": "display_data"
    }
   ],
   "source": [
    "    def test_tuple():\n",
    "        assert Tuple((1,2))\n",
    "        assert Tuple([1,2])\n",
    "        with invalid: Tuple[[Integer, String]]({})"
   ]
  },
  {
   "cell_type": "code",
   "execution_count": 9,
   "metadata": {},
   "outputs": [
    {
     "data": {
      "text/markdown": [
       "    def test_dataclass():\n",
       "        class Thing(DataClass):\n",
       "            a: Integer\n",
       "\n",
       "        assert dataclasses.is_dataclass(Thing)\n",
       "        assert Thing._schema.toDict() == {'type': 'object', 'properties': {'a': {'type': 'integer'}}, 'required': ['a']}\n",
       "        assert Thing(a=1)\n",
       "        with invalid:\n",
       "            Thing(a='abc')"
      ],
      "text/plain": [
       "<IPython.core.display.Markdown object>"
      ]
     },
     "metadata": {},
     "output_type": "display_data"
    }
   ],
   "source": [
    "    def test_dataclass():\n",
    "        class Thing(DataClass):\n",
    "            a: Integer\n",
    "\n",
    "        assert dataclasses.is_dataclass(Thing)\n",
    "        assert Thing._schema.toDict() == {'type': 'object', 'properties': {'a': {'type': 'integer'}}, 'required': ['a']}\n",
    "        assert Thing(a=1)\n",
    "        with invalid:\n",
    "            Thing(a='abc')\n"
   ]
  },
  {
   "cell_type": "code",
   "execution_count": 10,
   "metadata": {},
   "outputs": [
    {
     "data": {
      "text/markdown": [
       "    def test_update_attr():\n",
       "        \n",
       "        for cls in [Bunch]:\n",
       "            class Class(cls): \n",
       "                a: int = None\n",
       "            d = Class()\n",
       "            with invalid: d['a'] = 'abc'\n",
       "            assert 'a' not in d\n",
       "            d.a = 10\n",
       "            assert d.a == 10"
      ],
      "text/plain": [
       "<IPython.core.display.Markdown object>"
      ]
     },
     "metadata": {},
     "output_type": "display_data"
    }
   ],
   "source": [
    "    def test_update_attr():\n",
    "        \n",
    "        for cls in [Bunch]:\n",
    "            class Class(cls): \n",
    "                a: int = None\n",
    "            d = Class()\n",
    "            with invalid: d['a'] = 'abc'\n",
    "            assert 'a' not in d\n",
    "            d.a = 10\n",
    "            assert d.a == 10"
   ]
  }
 ],
 "metadata": {
  "kernelspec": {
   "display_name": "pidgy 3",
   "language": "python",
   "name": "pidgy"
  },
  "language_info": {
   "codemirror_mode": {
    "name": "ipython",
    "version": 3
   },
   "file_extension": ".py",
   "mimetype": "text/x-python",
   "name": "python",
   "nbconvert_exporter": "python",
   "pygments_lexer": "ipython3",
   "version": "3.7.3"
  }
 },
 "nbformat": 4,
 "nbformat_minor": 4
}
