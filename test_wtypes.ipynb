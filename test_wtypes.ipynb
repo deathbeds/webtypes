{
 "cells": [
  {
   "cell_type": "code",
   "execution_count": 1,
   "metadata": {},
   "outputs": [],
   "source": [
    "    from wtypes import *\n",
    "    import pytest, anyconfig\n",
    "    invalid = pytest.raises(ValidationError)"
   ]
  },
  {
   "cell_type": "code",
   "execution_count": 2,
   "metadata": {},
   "outputs": [],
   "source": [
    "    def test_update_item():\n",
    "        for cls in [Dict, Munch]:\n",
    "            d = cls[{'a': int}]()\n",
    "            with invalid: d['a'] = 'abc'\n",
    "            assert 'a' not in d\n",
    "            d['a'] = 10\n",
    "            assert d['a'] == 10"
   ]
  },
  {
   "cell_type": "code",
   "execution_count": 3,
   "metadata": {},
   "outputs": [],
   "source": [
    "    def test_update_attr():\n",
    "        for cls in [Munch, DataClass]:\n",
    "            d = cls[{'a': int}]()\n",
    "            with invalid: d.a = 'abc'\n",
    "            assert 'a' not in d\n",
    "            d.a = 10\n",
    "            assert d.a == 10"
   ]
  },
  {
   "cell_type": "code",
   "execution_count": 4,
   "metadata": {},
   "outputs": [],
   "source": [
    "    def test_load_config():\n",
    "        class BadProject(Bunch):\n",
    "            tool: Dict\n",
    "            __annotations__ = {'build-system': Integer}\n",
    "\n",
    "        with invalid:\n",
    "            BadProject().load('pyproject.toml')\n",
    "        \n",
    "        class PyProject(Bunch):\n",
    "            tool: Dict\n",
    "            __annotations__ = {'build-system': Dict}\n",
    "        PyProject().load('pyproject.toml')"
   ]
  },
  {
   "cell_type": "code",
   "execution_count": 5,
   "metadata": {},
   "outputs": [],
   "source": [
    "    def test_tuple():\n",
    "        assert Tuple((1,2))\n",
    "        assert Tuple([1,2])\n",
    "        with invalid: Tuple[Integer, String]({})"
   ]
  },
  {
   "cell_type": "code",
   "execution_count": 6,
   "metadata": {},
   "outputs": [],
   "source": [
    "    def test_dict():\n",
    "        class Thing(Dict):\n",
    "            a: Integer\n",
    "\n",
    "        assert Thing._schema.toDict() == {'type': 'object', 'properties': {'a': {'type': 'integer'}}, 'required': ['a']}\n",
    "        assert Thing(a=1)\n",
    "        with invalid:\n",
    "            Thing(a='abc')\n"
   ]
  },
  {
   "cell_type": "code",
   "execution_count": 7,
   "metadata": {},
   "outputs": [],
   "source": [
    "    def test_bunch():\n",
    "        class Thing(Bunch):\n",
    "            a: Integer\n",
    "\n",
    "        assert Thing._schema.toDict() == {'type': 'object', 'properties': {'a': {'type': 'integer'}}, 'required': ['a']}\n",
    "        t = Thing(a=1)\n",
    "        assert t.a == 1\n",
    "        with invalid:\n",
    "            Thing(a='abc')\n"
   ]
  },
  {
   "cell_type": "code",
   "execution_count": 8,
   "metadata": {},
   "outputs": [],
   "source": [
    "    def test_dataclass():\n",
    "        class Thing(DataClass):\n",
    "            a: Integer\n",
    "\n",
    "        assert dataclasses.is_dataclass(Thing)\n",
    "        assert Thing._schema.toDict() == {'type': 'object', 'properties': {'a': {'type': 'integer'}}, 'required': ['a']}\n",
    "        assert Thing(a=1)\n",
    "        with invalid:\n",
    "            Thing(a='abc')\n"
   ]
  },
  {
   "cell_type": "code",
   "execution_count": null,
   "metadata": {},
   "outputs": [],
   "source": []
  },
  {
   "cell_type": "code",
   "execution_count": null,
   "metadata": {},
   "outputs": [],
   "source": []
  }
 ],
 "metadata": {
  "kernelspec": {
   "display_name": "Python 3",
   "language": "python",
   "name": "python3"
  },
  "language_info": {
   "codemirror_mode": {
    "name": "ipython",
    "version": 3
   },
   "file_extension": ".py",
   "mimetype": "text/x-python",
   "name": "python",
   "nbconvert_exporter": "python",
   "pygments_lexer": "ipython3",
   "version": "3.7.3"
  }
 },
 "nbformat": 4,
 "nbformat_minor": 4
}
