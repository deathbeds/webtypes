{
 "cells": [
  {
   "cell_type": "code",
   "execution_count": 1,
   "metadata": {},
   "outputs": [],
   "source": [
    "    from wtypes import *\n",
    "    import pytest, typing\n",
    "    invalid = pytest.raises(ValidationError)"
   ]
  },
  {
   "cell_type": "code",
   "execution_count": 2,
   "metadata": {},
   "outputs": [],
   "source": [
    "    def test_partial_defaults():\n",
    "        class d(Dict):\n",
    "            i: Integer = 20\n",
    "\n",
    "        assert d(j=9) == {'i': 20, 'j': 9}\n",
    "        assert d(i=9) == {'i': 9}\n"
   ]
  },
  {
   "cell_type": "code",
   "execution_count": 3,
   "metadata": {},
   "outputs": [],
   "source": [
    "    def test_nested_schema():\n",
    "        class c(Dict): a: object\n",
    "        class d(c): b: Integer\n",
    "        assert c._schema.toDict() =={'properties': {'a': {}}, 'type': 'object'}\n",
    "        d._schema.toDict() =={'properties': {'a': {}, 'b': {'type': 'integer'}}, 'type': 'object'}"
   ]
  },
  {
   "cell_type": "code",
   "execution_count": 4,
   "metadata": {},
   "outputs": [],
   "source": [
    "    def test_update_attr():\n",
    "        \n",
    "        for cls in [Bunch]:\n",
    "            class Class(cls): \n",
    "                a: int = 1\n",
    "            d = Class({})\n",
    "            with invalid: d['a'] = 'abc'\n",
    "            assert d['a'] == 1\n",
    "            d.a = 10\n",
    "            assert d.a == 10"
   ]
  },
  {
   "cell_type": "code",
   "execution_count": 5,
   "metadata": {},
   "outputs": [],
   "source": [
    "    def test_dict():\n",
    "        class Thing(Dict):\n",
    "            a: Integer\n",
    "\n",
    "        Thing._schema.toDict() == {'properties': {'a': {'type': 'integer'}}, 'required': ['a'], 'type': 'object'}\n",
    "        assert Thing(a=1)\n",
    "        with invalid:\n",
    "            Thing(a='abc')\n"
   ]
  },
  {
   "cell_type": "code",
   "execution_count": 6,
   "metadata": {},
   "outputs": [],
   "source": [
    "    def test_bunch():\n",
    "        class Thing(Bunch):\n",
    "            a: Integer\n",
    "\n",
    "        Thing._schema.toDict() == {'type': 'object', 'properties': {'a': {'type': 'integer'}}, 'required': ['a']}\n",
    "        t = Thing(a=1)\n",
    "        assert t.a == 1\n",
    "        with invalid:\n",
    "            Thing(a='abc')\n"
   ]
  },
  {
   "cell_type": "code",
   "execution_count": 7,
   "metadata": {},
   "outputs": [],
   "source": [
    "    def test_dict_mods():\n",
    "        d = Dict[{'a': Integer, 'b': String}]({'a': 1})\n",
    "\n",
    "        with invalid: d[\"a\"] = 'abc'\n",
    "        d['a'] = 8\n",
    "        d['b'] = 'abc'\n",
    "        with invalid: d['b'] = 10\n",
    "        d['b'] = 'wxyz'\n",
    "\n",
    "        assert d == {'a': 8, 'b': 'wxyz'}\n"
   ]
  },
  {
   "cell_type": "code",
   "execution_count": 8,
   "metadata": {},
   "outputs": [],
   "source": [
    "    def test_list_mods():\n",
    "        l = List[Integer, Bool]()\n",
    "        with invalid: l.append(1.2)\n",
    "        l.append(1)\n",
    "        l.extend([1,True])\n",
    "        with invalid: l.extend([1, 'abc'])\n",
    "        l.extend([False, 2, 4])\n",
    "        assert l == [1, 1, True, False, 2, 4]\n",
    "        with invalid: l.insert(1, 'abc')\n",
    "        l.insert(1, 8)\n",
    "        assert l == [1, 8, 1, True, False, 2, 4]\n",
    "\n",
    "        ml = List[Integer] + MinItems[1]\n",
    "\n",
    "        with invalid: ml()\n",
    "        with invalid: ml(['abc'])\n",
    "        assert ml([1])"
   ]
  },
  {
   "cell_type": "code",
   "execution_count": 9,
   "metadata": {},
   "outputs": [],
   "source": [
    "    def test_update_item():\n",
    "        for cls in [Dict, Bunch]:\n",
    "            d = cls[{'a': int}]({})\n",
    "            assert 'a' not in d\n",
    "            d['a'] = 10\n",
    "            assert d['a'] == 10"
   ]
  },
  {
   "cell_type": "code",
   "execution_count": 10,
   "metadata": {},
   "outputs": [],
   "source": [
    "    def test_load_config():\n",
    "        class BadProject(Bunch):\n",
    "            tool: Dict\n",
    "            __annotations__ = {'build-system': Integer}\n",
    "\n",
    "        with invalid:\n",
    "            BadProject().from_config_file('pyproject.toml')\n",
    "        \n",
    "        class PyProject(Bunch):\n",
    "            tool: Dict\n",
    "            __annotations__ = {'build-system': Dict}\n",
    "        PyProject.from_config_file('pyproject.toml')"
   ]
  },
  {
   "cell_type": "code",
   "execution_count": 11,
   "metadata": {},
   "outputs": [],
   "source": [
    "    def test_tuple():\n",
    "        assert Tuple((1,2))\n",
    "        assert Tuple([1,2])\n",
    "        with invalid: Tuple[[Integer, String]]({})"
   ]
  },
  {
   "cell_type": "code",
   "execution_count": 12,
   "metadata": {},
   "outputs": [],
   "source": [
    "    def test_complex_dict():\n",
    "        with invalid: (Dict[{'a': Email}] + Required['a']+ Default[{}] + AdditionalProperties[False])({})\n",
    "        with invalid: (Dict[{'a': Email}] + Default[{}] + AdditionalProperties[False])({'a': 'no'})\n",
    "        assert (Dict[{'a': Email}] + Default[{}] + AdditionalProperties[False])({'a': 'no@yes'})"
   ]
  },
  {
   "cell_type": "code",
   "execution_count": 13,
   "metadata": {},
   "outputs": [
    {
     "data": {
      "text/plain": [
       "(wtypes.base.Integer, abc.Forward)"
      ]
     },
     "execution_count": 13,
     "metadata": {},
     "output_type": "execute_result"
    }
   ],
   "source": [
    "    typing.Union[Integer, Forward[range]].__args__"
   ]
  },
  {
   "cell_type": "code",
   "execution_count": 14,
   "metadata": {},
   "outputs": [
    {
     "ename": "SyntaxError",
     "evalue": "invalid syntax (<ipython-input-14-1762cc1dce5d>, line 3)",
     "output_type": "error",
     "traceback": [
      "\u001b[0;36m  File \u001b[0;32m\"<ipython-input-14-1762cc1dce5d>\"\u001b[0;36m, line \u001b[0;32m3\u001b[0m\n\u001b[0;31m    a: typing.Union[]\u001b[0m\n\u001b[0m                    ^\u001b[0m\n\u001b[0;31mSyntaxError\u001b[0m\u001b[0;31m:\u001b[0m invalid syntax\n"
     ]
    }
   ],
   "source": [
    "    def test_dataclass():\n",
    "        class Thing(DataClass):\n",
    "            a: typing.Union[]\n",
    "\n",
    "        assert dataclasses.is_dataclass(Thing)\n",
    "        Thing._schema.toDict() == {'type': 'object', 'properties': {'a': {'type': 'integer'}}, 'required': ['a']}\n",
    "        assert Thing(a=1)\n",
    "        with invalid:\n",
    "            Thing(a='abc')\n"
   ]
  },
  {
   "cell_type": "code",
   "execution_count": null,
   "metadata": {},
   "outputs": [],
   "source": [
    "    def test_dict_additionalproperties():\n",
    "        class d(Dict, additionalProperties=False):\n",
    "            a: int\n",
    "            b: float = 1.1\n",
    "                \n",
    "        with invalid: d({'c': 1})\n",
    "        d({'a': 1})\n",
    "        with invalid: d({'a': 1})['c'] = 1"
   ]
  }
 ],
 "metadata": {
  "kernelspec": {
   "display_name": "Python 3",
   "language": "python",
   "name": "python3"
  },
  "language_info": {
   "codemirror_mode": {
    "name": "ipython",
    "version": 3
   },
   "file_extension": ".py",
   "mimetype": "text/x-python",
   "name": "python",
   "nbconvert_exporter": "python",
   "pygments_lexer": "ipython3",
   "version": "3.7.3"
  }
 },
 "nbformat": 4,
 "nbformat_minor": 4
}
